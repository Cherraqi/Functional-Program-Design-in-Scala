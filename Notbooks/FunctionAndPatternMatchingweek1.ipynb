{
 "cells": [
  {
   "cell_type": "code",
   "execution_count": 1,
   "metadata": {},
   "outputs": [
    {
     "data": {
      "text/plain": [
       "Intitializing Scala interpreter ..."
      ]
     },
     "metadata": {},
     "output_type": "display_data"
    },
    {
     "data": {
      "text/plain": [
       "Spark Web UI available at http://cherraqi-x751mj.home:4040\n",
       "SparkContext available as 'sc' (version = 2.4.0, master = local[*], app id = local-1542490813344)\n",
       "SparkSession available as 'spark'\n"
      ]
     },
     "metadata": {},
     "output_type": "display_data"
    },
    {
     "data": {
      "text/plain": [
       "res0: String = hellow world\n"
      ]
     },
     "execution_count": 1,
     "metadata": {},
     "output_type": "execute_result"
    }
   ],
   "source": [
    "\"hellow world\""
   ]
  },
  {
   "cell_type": "code",
   "execution_count": 2,
   "metadata": {},
   "outputs": [
    {
     "data": {
      "text/plain": [
       "defined class JSON\n",
       "defined class JSeq\n",
       "defined class JObj\n",
       "defined class JNum\n",
       "defined class JStr\n",
       "defined class JBool\n",
       "defined object JNull\n",
       "jobj: JObj = JObj(Map(firstName -> JStr(John), lastName -> JStr(Smith), address -> JObj(Map(streetAddress -> JStr(21 2nd Street), state -> JStr(NY), postalCode -> JNum(10021.0))), phoneNumbers -> JSeq(List(JObj(Map(type -> JStr(home), number -> JStr(212 555-1234))), JObj(Map(type -> JStr(fax), number -> JStr(646 555-4567)))))))\n",
       "show: (json: JSON)String\n",
       "res1: String = {\"firstName\": \"John\", \"lastName\": \"Smith\", \"address\": {\"streetAddress\": \"21 2nd Street\", \"state\": \"NY\", \"postalCode\": 10021.0}, \"phoneNumbers\": [{\"type\": \"home\", \"number\": \"212 555-1234\"}, {\"type\": \"fax\", \"number\": \"646 555-4567\"}]}\n"
      ]
     },
     "execution_count": 2,
     "metadata": {},
     "output_type": "execute_result"
    }
   ],
   "source": [
    "abstract class JSON\n",
    "  case class JSeq   (elems: List[JSON])           extends JSON\n",
    "  case class JObj  (bindings: Map[String, JSON])  extends JSON\n",
    "  case class JNum  (num: Double)                  extends JSON\n",
    "  case class JStr  (str: String)                  extends JSON\n",
    "  case class JBool (b: Boolean)                   extends JSON\n",
    "  case object JNull                               extends JSON\n",
    "  \n",
    "    val jobj = JObj(Map(\n",
    "      \"firstName\" -> JStr(\"John\"),\n",
    "      \"lastName\" -> JStr(\"Smith\"),\n",
    "      \"address\" -> JObj(Map(\n",
    "      \"streetAddress\" -> JStr(\"21 2nd Street\"),\n",
    "      \"state\" -> JStr(\"NY\"),\n",
    "      \"postalCode\" -> JNum(10021)\n",
    "    )),\n",
    "    \"phoneNumbers\" -> JSeq(List(\n",
    "      JObj(Map(\n",
    "        \"type\" -> JStr(\"home\"),\n",
    "        \"number\" -> JStr(\"212 555-1234\")\n",
    "      )),\n",
    "      JObj(Map(\n",
    "        \"type\" -> JStr(\"fax\"),\n",
    "        \"number\" -> JStr(\"646 555-4567\")\n",
    "      ))\n",
    "    ))\n",
    "  ))                                              \n",
    "\n",
    "  def show(json: JSON): String = json match {\n",
    "    case JSeq(elems) =>\n",
    "      \"[\" + { elems map show mkString \", \" } + \"]\"\n",
    "    case JObj(bindings) =>\n",
    "      val assocs = bindings map {\n",
    "        case (key, value) => \"\\\"\" + key + \"\\\": \" + show(value)\n",
    "      }\n",
    "      \"{\" + (assocs mkString \", \") + \"}\"\n",
    "    case JNum(num) => num.toString\n",
    "    case JStr(str) => '\\\"' + str + '\\\"'\n",
    "    case JBool(b)  => b.toString\n",
    "    case JNull     => \"null\"\n",
    "  }                                            \n",
    "  show(jobj)     "
   ]
  },
  {
   "cell_type": "code",
   "execution_count": 9,
   "metadata": {},
   "outputs": [
    {
     "data": {
      "text/plain": [
       "data: List[JSON] = List(JObj(Map(firstName -> JStr(John), lastName -> JStr(Smith), address -> JObj(Map(streetAddress -> JStr(21 2nd Street), state -> JStr(NY), postalCode -> JNum(10021.0))), phoneNumbers -> JSeq(List(JObj(Map(type -> JStr(home), number -> JStr(212 555-1234))), JObj(Map(type -> JStr(fax), number -> JStr(646 555-4567))))))), JObj(Map(firstName -> JStr(John), lastName -> JStr(Smith), address -> JObj(Map(streetAddress -> JStr(21 2nd Street), state -> JStr(NY), postalCode -> JNum(10021.0))), phoneNumbers -> JSeq(List(JObj(Map(type -> JStr(home), number -> JStr(212 555-1234))), JObj(Map(type -> JStr(fax), number -> JStr(646 555-4567))))))))\n"
      ]
     },
     "execution_count": 9,
     "metadata": {},
     "output_type": "execute_result"
    }
   ],
   "source": [
    "val data: List[JSON] = List(jobj, jobj)"
   ]
  },
  {
   "cell_type": "code",
   "execution_count": 3,
   "metadata": {},
   "outputs": [
    {
     "data": {
      "text/plain": [
       "f: String => String = <function1>\n"
      ]
     },
     "execution_count": 3,
     "metadata": {},
     "output_type": "execute_result"
    }
   ],
   "source": [
    "val f : String=>String={case \"ping\"=>\"pong\"}"
   ]
  },
  {
   "cell_type": "code",
   "execution_count": 4,
   "metadata": {},
   "outputs": [
    {
     "data": {
      "text/plain": [
       "res2: String = pong\n"
      ]
     },
     "execution_count": 4,
     "metadata": {},
     "output_type": "execute_result"
    }
   ],
   "source": [
    "f(\"ping\")"
   ]
  },
  {
   "cell_type": "code",
   "execution_count": 5,
   "metadata": {},
   "outputs": [
    {
     "ename": "scala.MatchError",
     "evalue": " bac (of class java.lang.String)",
     "output_type": "error",
     "traceback": [
      "scala.MatchError: bac (of class java.lang.String)",
      "  at $anonfun$1.apply(<console>:24)",
      "  at $anonfun$1.apply(<console>:24)",
      "  ... 37 elided",
      ""
     ]
    }
   ],
   "source": [
    "f(\"bac\")"
   ]
  },
  {
   "cell_type": "code",
   "execution_count": 14,
   "metadata": {},
   "outputs": [
    {
     "data": {
      "text/plain": [
       "f: PartialFunction[String,String] = <function1>\n"
      ]
     },
     "execution_count": 14,
     "metadata": {},
     "output_type": "execute_result"
    }
   ],
   "source": [
    "val f : PartialFunction[String,String]={case \"ping\"=>\"pong\"}"
   ]
  },
  {
   "cell_type": "code",
   "execution_count": 15,
   "metadata": {},
   "outputs": [
    {
     "data": {
      "text/plain": [
       "res10: Boolean = false\n"
      ]
     },
     "execution_count": 15,
     "metadata": {},
     "output_type": "execute_result"
    }
   ],
   "source": [
    "f.isDefinedAt(\"abc\")"
   ]
  },
  {
   "cell_type": "code",
   "execution_count": 16,
   "metadata": {},
   "outputs": [
    {
     "data": {
      "text/plain": [
       "res11: Boolean = true\n"
      ]
     },
     "execution_count": 16,
     "metadata": {},
     "output_type": "execute_result"
    }
   ],
   "source": [
    "f.isDefinedAt(\"ping\")"
   ]
  },
  {
   "cell_type": "code",
   "execution_count": null,
   "metadata": {},
   "outputs": [],
   "source": []
  }
 ],
 "metadata": {
  "kernelspec": {
   "display_name": "spylon-kernel",
   "language": "scala",
   "name": "spylon-kernel"
  },
  "language_info": {
   "codemirror_mode": "text/x-scala",
   "file_extension": ".scala",
   "help_links": [
    {
     "text": "MetaKernel Magics",
     "url": "https://github.com/calysto/metakernel/blob/master/metakernel/magics/README.md"
    }
   ],
   "mimetype": "text/x-scala",
   "name": "scala",
   "pygments_lexer": "scala",
   "version": "0.4.1"
  }
 },
 "nbformat": 4,
 "nbformat_minor": 2
}
