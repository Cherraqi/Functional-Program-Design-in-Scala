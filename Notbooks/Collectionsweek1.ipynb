{
 "cells": [
  {
   "cell_type": "code",
   "execution_count": 1,
   "metadata": {},
   "outputs": [
    {
     "data": {
      "text/plain": [
       "Intitializing Scala interpreter ..."
      ]
     },
     "metadata": {},
     "output_type": "display_data"
    },
    {
     "data": {
      "text/plain": [
       "Spark Web UI available at http://cherraqi-x751mj.home:4041\n",
       "SparkContext available as 'sc' (version = 2.4.0, master = local[*], app id = local-1542492606957)\n",
       "SparkSession available as 'spark'\n"
      ]
     },
     "metadata": {},
     "output_type": "display_data"
    },
    {
     "data": {
      "text/plain": [
       "res0: List[Int] = List(2, 3, 4)\n"
      ]
     },
     "execution_count": 1,
     "metadata": {},
     "output_type": "execute_result"
    }
   ],
   "source": [
    "List(1,2,3).map(_ + 1)                      "
   ]
  },
  {
   "cell_type": "code",
   "execution_count": 2,
   "metadata": {
    "scrolled": false
   },
   "outputs": [
    {
     "data": {
      "text/plain": [
       "res1: List[Int] = List(1, 1, 2, 2, 3, 3)\n"
      ]
     },
     "execution_count": 2,
     "metadata": {},
     "output_type": "execute_result"
    }
   ],
   "source": [
    "List(1,2,3).flatMap(x => List(x,x))         "
   ]
  },
  {
   "cell_type": "code",
   "execution_count": 3,
   "metadata": {},
   "outputs": [
    {
     "data": {
      "text/plain": [
       "res2: List[(Int, String)] = List((1,a), (2,b), (3,c))\n"
      ]
     },
     "execution_count": 3,
     "metadata": {},
     "output_type": "execute_result"
    }
   ],
   "source": [
    "List(1,2,3) zip List(\"a\",\"b\",\"c\")             "
   ]
  },
  {
   "cell_type": "code",
   "execution_count": 4,
   "metadata": {},
   "outputs": [
    {
     "data": {
      "text/plain": [
       "res3: (List[Int], List[Int]) = (List(1, 2),List(3, 4))\n"
      ]
     },
     "execution_count": 4,
     "metadata": {},
     "output_type": "execute_result"
    }
   ],
   "source": [
    "List(1,2,3,4).partition(_ < 3)                  "
   ]
  },
  {
   "cell_type": "code",
   "execution_count": 5,
   "metadata": {},
   "outputs": [
    {
     "data": {
      "text/plain": [
       "res4: List[Int] = List(1, 3)\n"
      ]
     },
     "execution_count": 5,
     "metadata": {},
     "output_type": "execute_result"
    }
   ],
   "source": [
    "List(1,2,3,4).filter(_ % 2 == 1) "
   ]
  },
  {
   "cell_type": "code",
   "execution_count": 6,
   "metadata": {},
   "outputs": [
    {
     "data": {
      "text/plain": [
       "isOdd: (n: Int)Boolean\n",
       "n: Int = 10\n",
       "res5: scala.collection.immutable.IndexedSeq[(Int, Int)] = Vector((2,1), (3,2), (4,1), (4,3), (5,2), (5,4), (6,1), (6,3), (6,5), (7,2), (7,4), (7,6), (8,1), (8,3), (8,5), (8,7), (9,2), (9,4), (9,6), (9,8))\n"
      ]
     },
     "execution_count": 6,
     "metadata": {},
     "output_type": "execute_result"
    }
   ],
   "source": [
    "def isOdd(n: Int) = n % 2 == 1                  \n",
    "  val n = 10                                     \n",
    "  (1 until n) flatMap(i =>\n",
    "    (1 until i) withFilter (j => isOdd(i + j)) map\n",
    "       (j => (i, j))) "
   ]
  },
  {
   "cell_type": "code",
   "execution_count": 29,
   "metadata": {},
   "outputs": [
    {
     "data": {
      "text/plain": [
       "res20: scala.collection.immutable.IndexedSeq[(Int, Int)] = Vector((2,1), (3,2), (4,1), (4,3), (5,2), (5,4), (6,1), (6,3), (6,5), (7,2), (7,4), (7,6), (8,1), (8,3), (8,5), (8,7), (9,2), (9,4), (9,6), (9,8))\n"
      ]
     },
     "execution_count": 29,
     "metadata": {},
     "output_type": "execute_result"
    }
   ],
   "source": [
    "//with for expression\n",
    "  for {i <- 1 until n //a generator\n",
    "       j <- 1 until i //another generator\n",
    "       if isOdd(i+j)\n",
    "}yield(i,j)"
   ]
  },
  {
   "cell_type": "code",
   "execution_count": 18,
   "metadata": {},
   "outputs": [],
   "source": [
    "/* Map, flatMap, and filter implemented using for expression\n",
    "     * but in reality, scala compiler translates for expressions in terms of\n",
    "     * map, flatMap, and a lazy variation of filter (withFilter)\n",
    "     */"
   ]
  },
  {
   "cell_type": "code",
   "execution_count": 15,
   "metadata": {},
   "outputs": [
    {
     "data": {
      "text/plain": [
       "mapFun: [T, U](xs: List[T], f: T => U)List[U]\n",
       "flatMap: [T, U](xs: List[T], f: T => Iterable[U])List[U]\n",
       "filter: [T](xs: List[T], p: T => Boolean)List[T]\n"
      ]
     },
     "execution_count": 15,
     "metadata": {},
     "output_type": "execute_result"
    }
   ],
   "source": [
    "def mapFun[T, U](xs: List[T], f: T => U): List[U] =\n",
    "        for(x <- xs) yield f(x)           // mapFun: [T, U](xs: List[T], f: T => U)List[U]\n",
    "def flatMap[T, U](xs: List[T], f: T => Iterable[U]): List[U] =\n",
    "        for(x <- xs; y <- f(x)) yield y   // flatMap: [T, U](xs: List[T], f: T => Iterable[U])List[U]\n",
    "def filter[T](xs: List[T], p: T => Boolean): List[T] =\n",
    "        for(x <- xs if p(x)) yield x      // filter: [T](xs: List[T], p: T => Boolean)List[T]"
   ]
  },
  {
   "cell_type": "code",
   "execution_count": 24,
   "metadata": {},
   "outputs": [
    {
     "data": {
      "text/plain": [
       "fruits: Seq[String] = List(apple, banana, orange)\n"
      ]
     },
     "execution_count": 24,
     "metadata": {},
     "output_type": "execute_result"
    }
   ],
   "source": [
    "val fruits = Seq(\"apple\", \"banana\", \"orange\")"
   ]
  },
  {
   "cell_type": "code",
   "execution_count": 25,
   "metadata": {},
   "outputs": [
    {
     "data": {
      "text/plain": [
       "res16: Seq[String] = List(APPLE, BANANA, ORANGE)\n"
      ]
     },
     "execution_count": 25,
     "metadata": {},
     "output_type": "execute_result"
    }
   ],
   "source": [
    "fruits.map(_.toUpperCase)"
   ]
  },
  {
   "cell_type": "code",
   "execution_count": 28,
   "metadata": {},
   "outputs": [
    {
     "data": {
      "text/plain": [
       "res19: Seq[Char] = List(A, P, P, L, E, B, A, N, A, N, A, O, R, A, N, G, E)\n"
      ]
     },
     "execution_count": 28,
     "metadata": {},
     "output_type": "execute_result"
    }
   ],
   "source": [
    "fruits.flatMap(_.toUpperCase)"
   ]
  },
  {
   "cell_type": "code",
   "execution_count": null,
   "metadata": {},
   "outputs": [],
   "source": []
  }
 ],
 "metadata": {
  "kernelspec": {
   "display_name": "spylon-kernel",
   "language": "scala",
   "name": "spylon-kernel"
  },
  "language_info": {
   "codemirror_mode": "text/x-scala",
   "file_extension": ".scala",
   "help_links": [
    {
     "text": "MetaKernel Magics",
     "url": "https://github.com/calysto/metakernel/blob/master/metakernel/magics/README.md"
    }
   ],
   "mimetype": "text/x-scala",
   "name": "scala",
   "pygments_lexer": "scala",
   "version": "0.4.1"
  }
 },
 "nbformat": 4,
 "nbformat_minor": 2
}
