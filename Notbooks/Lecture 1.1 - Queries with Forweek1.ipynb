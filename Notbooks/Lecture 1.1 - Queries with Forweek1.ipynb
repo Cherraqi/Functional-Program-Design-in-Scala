{
 "cells": [
  {
   "cell_type": "code",
   "execution_count": 2,
   "metadata": {},
   "outputs": [
    {
     "data": {
      "text/plain": [
       "defined class Book\n",
       "booksSet: Set[Book] = Set(Book(Effective Java 2,List(Bloch, Joshua)), Book(Structure and Interpretation of Computer Programs,List(Abelson, Harald, Sussman, Gerald J.)), Book(Effective Java,List(Bloch, Joshua)), Book(Introduction to Functional Programming,List(Bird, Richard, Wadler, Phil)), Book(Programming in Scala,List(Ordersky, Martin, Spoon, Lex, Venners, Bill)), Book(Java Puzzlers,List(Bloch, Joshua, Gafter, Neal)))\n"
      ]
     },
     "execution_count": 2,
     "metadata": {},
     "output_type": "execute_result"
    }
   ],
   "source": [
    "\n",
    "/*** For-expression are useful for querying the database (Slick) ***/\n",
    "case class Book(title: String, authors: List[String])\n",
    "val booksSet: Set[Book] = Set (\n",
    "  Book(title \t = \"Structure and Interpretation of Computer Programs\",\n",
    "     authors = List(\"Abelson, Harald\", \"Sussman, Gerald J.\")),\n",
    "  Book(title \t = \"Introduction to Functional Programming\",\n",
    "     authors = List(\"Bird, Richard\", \"Wadler, Phil\")),\n",
    "  Book(title \t = \"Effective Java\",\n",
    "     authors = List(\"Bloch, Joshua\")),\n",
    "  Book(title \t = \"Effective Java 2\",\n",
    "     authors = List(\"Bloch, Joshua\")),\n",
    "  Book(title \t = \"Java Puzzlers\",\n",
    "     authors = List(\"Bloch, Joshua\", \"Gafter, Neal\")),\n",
    "  Book(title \t = \"Programming in Scala\",\n",
    "     authors = List(\"Ordersky, Martin\", \"Spoon, Lex\", \"Venners, Bill\"))\n",
    ") "
   ]
  },
  {
   "cell_type": "code",
   "execution_count": 11,
   "metadata": {},
   "outputs": [
    {
     "data": {
      "text/plain": [
       "booksList: List[Book] = List(Book(Structure and Interpretation of Computer Programs,List(Abelson, Harald, Sussman, Gerald J.)), Book(Introduction to Functional Programming,List(Bird, Richard, Wadler, Phil)), Book(Effective Java,List(Bloch, Joshua)), Book(Effective Java 2,List(Bloch, Joshua)), Book(Java Puzzlers,List(Bloch, Joshua, Gafter, Neal)), Book(Programming in Scala,List(Ordersky, Martin, Spoon, Lex, Venners, Bill)))\n"
      ]
     },
     "execution_count": 11,
     "metadata": {},
     "output_type": "execute_result"
    }
   ],
   "source": [
    " val booksList: List[Book] = List (\n",
    "  Book(title \t = \"Structure and Interpretation of Computer Programs\",\n",
    "     authors = List(\"Abelson, Harald\", \"Sussman, Gerald J.\")),\n",
    "  Book(title \t = \"Introduction to Functional Programming\",\n",
    "     authors = List(\"Bird, Richard\", \"Wadler, Phil\")),\n",
    "  Book(title \t = \"Effective Java\",\n",
    "     authors = List(\"Bloch, Joshua\")),\n",
    "  Book(title \t = \"Effective Java 2\",\n",
    "     authors = List(\"Bloch, Joshua\")),\n",
    "  Book(title \t = \"Java Puzzlers\",\n",
    "     authors = List(\"Bloch, Joshua\", \"Gafter, Neal\")),\n",
    "  Book(title \t = \"Programming in Scala\",\n",
    "     authors = List(\"Ordersky, Martin\", \"Spoon, Lex\", \"Venners, Bill\"))\n",
    ")"
   ]
  },
  {
   "cell_type": "code",
   "execution_count": 12,
   "metadata": {},
   "outputs": [
    {
     "data": {
      "text/plain": [
       "res8: scala.collection.immutable.Set[String] = Set(Effective Java 2, Effective Java, Java Puzzlers)\n"
      ]
     },
     "execution_count": 12,
     "metadata": {},
     "output_type": "execute_result"
    }
   ],
   "source": [
    "//To find the titles of books whose author's name is \"Bird\"\n",
    "for(b <- booksSet; a <- b.authors if a startsWith \"Bloch\") yield b.title"
   ]
  },
  {
   "cell_type": "code",
   "execution_count": 13,
   "metadata": {},
   "outputs": [
    {
     "data": {
      "text/plain": [
       "res9: List[String] = List(Effective Java, Effective Java 2, Java Puzzlers)\n"
      ]
     },
     "execution_count": 13,
     "metadata": {},
     "output_type": "execute_result"
    }
   ],
   "source": [
    " for(b <-booksList; a <- b.authors if a startsWith \"Bloch\")yield b.title"
   ]
  },
  {
   "cell_type": "code",
   "execution_count": 14,
   "metadata": {},
   "outputs": [
    {
     "data": {
      "text/plain": [
       "res10: scala.collection.immutable.Set[String] = Set(Structure and Interpretation of Computer Programs, Introduction to Functional Programming, Programming in Scala)\n"
      ]
     },
     "execution_count": 14,
     "metadata": {},
     "output_type": "execute_result"
    }
   ],
   "source": [
    "//To find all the books which have the word \"Program\" in the title\n",
    "for(b <- booksSet if b.title.indexOf(\"Program\") >= 0) yield b.title"
   ]
  },
  {
   "cell_type": "code",
   "execution_count": 15,
   "metadata": {},
   "outputs": [
    {
     "data": {
      "text/plain": [
       "res11: List[String] = List(Structure and Interpretation of Computer Programs, Introduction to Functional Programming, Programming in Scala)\n"
      ]
     },
     "execution_count": 15,
     "metadata": {},
     "output_type": "execute_result"
    }
   ],
   "source": [
    "for(b <- booksList if b.title.indexOf(\"Program\") >= 0) yield b.title"
   ]
  },
  {
   "cell_type": "code",
   "execution_count": 19,
   "metadata": {},
   "outputs": [
    {
     "data": {
      "text/plain": [
       "res15: scala.collection.immutable.Set[String] = Set(Bloch, Joshua)\n"
      ]
     },
     "execution_count": 19,
     "metadata": {},
     "output_type": "execute_result"
    }
   ],
   "source": [
    "//Find the names of all authors who have written at least two books present in the database\n",
    "    for {b1 <- booksSet\n",
    "         b2 <- booksSet\n",
    "         if b1.title < b2.title\n",
    "         a1 <- b1.authors\n",
    "         a2 <- b2.authors\n",
    "         if a1 == a2\n",
    "} yield a1 "
   ]
  },
  {
   "cell_type": "code",
   "execution_count": 20,
   "metadata": {},
   "outputs": [
    {
     "data": {
      "text/plain": [
       "res16: scala.collection.immutable.Set[String] = Set(Bloch, Joshua)\n"
      ]
     },
     "execution_count": 20,
     "metadata": {},
     "output_type": "execute_result"
    }
   ],
   "source": [
    "for {b1 <- booksSet\n",
    "     b2 <- booksSet\n",
    "     if b1.title != b2.title\n",
    "     a1 <- b1.authors\n",
    "     a2 <- b2.authors\n",
    "     if a1 == a2\n",
    "} yield a1"
   ]
  },
  {
   "cell_type": "code",
   "execution_count": 21,
   "metadata": {},
   "outputs": [
    {
     "data": {
      "text/plain": [
       "res17: List[String] = List(Bloch, Joshua, Bloch, Joshua, Bloch, Joshua)\n"
      ]
     },
     "execution_count": 21,
     "metadata": {},
     "output_type": "execute_result"
    }
   ],
   "source": [
    "for {b1 <- booksList\n",
    "     b2 <- booksList\n",
    "     if b1.title < b2.title\n",
    "     a1 <- b1.authors\n",
    "     a2 <- b2.authors\n",
    "     if a1 == a2\n",
    "} yield a1 "
   ]
  },
  {
   "cell_type": "code",
   "execution_count": 22,
   "metadata": {},
   "outputs": [
    {
     "data": {
      "text/plain": [
       "res18: List[String] = List(Bloch, Joshua, Bloch, Joshua, Bloch, Joshua, Bloch, Joshua, Bloch, Joshua, Bloch, Joshua)\n"
      ]
     },
     "execution_count": 22,
     "metadata": {},
     "output_type": "execute_result"
    }
   ],
   "source": [
    "for {b1 <- booksList\n",
    "    b2 <- booksList\n",
    "    if b1.title != b2.title\n",
    "    a1 <- b1.authors\n",
    "    a2 <- b2.authors\n",
    "    if a1 == a2\n",
    "} yield a1 "
   ]
  },
  {
   "cell_type": "code",
   "execution_count": 23,
   "metadata": {},
   "outputs": [
    {
     "data": {
      "text/plain": [
       "res19: List[String] = List(Bloch, Joshua, Bloch, Joshua)\n"
      ]
     },
     "execution_count": 23,
     "metadata": {},
     "output_type": "execute_result"
    }
   ],
   "source": [
    "for {b1 <- booksList\n",
    "     b2 <- booksSet\n",
    "     if b1.title < b2.title\n",
    "     a1 <- b1.authors\n",
    "     a2 <- b2.authors\n",
    "     if a1 == a2\n",
    "} yield a1 "
   ]
  },
  {
   "cell_type": "code",
   "execution_count": 24,
   "metadata": {},
   "outputs": [
    {
     "data": {
      "text/plain": [
       "res20: scala.collection.immutable.Set[String] = Set(Bloch, Joshua)\n"
      ]
     },
     "execution_count": 24,
     "metadata": {},
     "output_type": "execute_result"
    }
   ],
   "source": [
    "for {b1 <- booksSet\n",
    "    b2 <- booksList\n",
    "    if b1.title < b2.title\n",
    "    a1 <- b1.authors\n",
    "    a2 <- b2.authors\n",
    "    if a1 == a2\n",
    "} yield a1 "
   ]
  },
  {
   "cell_type": "code",
   "execution_count": 25,
   "metadata": {},
   "outputs": [
    {
     "data": {
      "text/plain": [
       "res21: scala.collection.immutable.Set[String] = Set(Introduction to Functional Programming)\n"
      ]
     },
     "execution_count": 25,
     "metadata": {},
     "output_type": "execute_result"
    }
   ],
   "source": [
    " /** Translating for expression back into HOFs **/\n",
    "for(b <- booksSet; a <- b.authors if a startsWith \"Bird\") yield b.title"
   ]
  },
  {
   "cell_type": "code",
   "execution_count": 26,
   "metadata": {},
   "outputs": [
    {
     "data": {
      "text/plain": [
       "res22: scala.collection.immutable.Set[String] = Set(Introduction to Functional Programming)\n"
      ]
     },
     "execution_count": 26,
     "metadata": {},
     "output_type": "execute_result"
    }
   ],
   "source": [
    "//substitute the first generator by flatMap\n",
    "booksSet flatMap(b =>for(a <- b.authors if a.startsWith(\"Bird\")) yield b.title)"
   ]
  },
  {
   "cell_type": "code",
   "execution_count": 27,
   "metadata": {},
   "outputs": [
    {
     "data": {
      "text/plain": [
       "res23: scala.collection.immutable.Set[String] = Set(Introduction to Functional Programming)\n"
      ]
     },
     "execution_count": 27,
     "metadata": {},
     "output_type": "execute_result"
    }
   ],
   "source": [
    "//substitute the if-statement by withFilter\n",
    "booksSet flatMap(b =>for(a <- b.authors withFilter (a => a.startsWith(\"Bird\"))) yield b.title)"
   ]
  },
  {
   "cell_type": "code",
   "execution_count": 28,
   "metadata": {},
   "outputs": [
    {
     "data": {
      "text/plain": [
       "res24: scala.collection.immutable.Set[String] = Set(Introduction to Functional Programming)\n"
      ]
     },
     "execution_count": 28,
     "metadata": {},
     "output_type": "execute_result"
    }
   ],
   "source": [
    "//substitute the second generator by map\n",
    "  booksSet flatMap(b =>b.authors withFilter (a => a.startsWith(\"Bird\")) map (t => b.title))"
   ]
  },
  {
   "cell_type": "code",
   "execution_count": null,
   "metadata": {},
   "outputs": [],
   "source": []
  }
 ],
 "metadata": {
  "kernelspec": {
   "display_name": "spylon-kernel",
   "language": "scala",
   "name": "spylon-kernel"
  },
  "language_info": {
   "codemirror_mode": "text/x-scala",
   "file_extension": ".scala",
   "help_links": [
    {
     "text": "MetaKernel Magics",
     "url": "https://github.com/calysto/metakernel/blob/master/metakernel/magics/README.md"
    }
   ],
   "mimetype": "text/x-scala",
   "name": "scala",
   "pygments_lexer": "scala",
   "version": "0.4.1"
  }
 },
 "nbformat": 4,
 "nbformat_minor": 2
}
